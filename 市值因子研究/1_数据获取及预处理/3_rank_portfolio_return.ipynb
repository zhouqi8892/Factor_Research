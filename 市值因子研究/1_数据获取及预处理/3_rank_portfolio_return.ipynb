{
 "cells": [
  {
   "cell_type": "code",
   "execution_count": 1,
   "metadata": {},
   "outputs": [],
   "source": [
    "import pandas as pd\n",
    "\n",
    "df = pd.read_csv('circulating_market_cap_stock_return_plus_rank_df.csv',index_col=0)"
   ]
  },
  {
   "cell_type": "code",
   "execution_count": 2,
   "metadata": {},
   "outputs": [
    {
     "output_type": "execute_result",
     "data": {
      "text/plain": "        index         code  year  month        date    return  \\\n0           0  000001.XSHE  2005      2  2005-02-28  0.065693   \n1           1  000002.XSHE  2005      2  2005-02-28  0.000000   \n2           2  000004.XSHE  2005      2  2005-02-28  0.115044   \n3           3  000006.XSHE  2005      2  2005-02-28  0.055556   \n4           4  000007.XSHE  2005      2  2005-02-28  0.097561   \n...       ...          ...   ...    ...         ...       ...   \n391996   3613  688388.XSHG  2020      5  2020-05-28 -0.147754   \n391997   3614  688389.XSHG  2020      5  2020-05-28  0.263233   \n391998   3615  688396.XSHG  2020      5  2020-05-28  0.001850   \n391999   3616  688398.XSHG  2020      5  2020-05-28  0.134982   \n392000   3617  688399.XSHG  2020      5  2020-05-28  0.440495   \n\n        circulating_market_cap       mkt_cap  \n0                          1.0  8.540730e+09  \n1                          1.0  8.956490e+09  \n2                          5.0  2.445300e+08  \n3                          2.0  7.003200e+08  \n4                          4.0  2.983500e+08  \n...                        ...           ...  \n391996                     3.0  3.374020e+09  \n391997                     5.0  7.318700e+08  \n391998                     2.0  8.970890e+09  \n391999                     5.0  8.980400e+08  \n392000                     5.0  1.606090e+09  \n\n[392001 rows x 8 columns]",
      "text/html": "<div>\n<style scoped>\n    .dataframe tbody tr th:only-of-type {\n        vertical-align: middle;\n    }\n\n    .dataframe tbody tr th {\n        vertical-align: top;\n    }\n\n    .dataframe thead th {\n        text-align: right;\n    }\n</style>\n<table border=\"1\" class=\"dataframe\">\n  <thead>\n    <tr style=\"text-align: right;\">\n      <th></th>\n      <th>index</th>\n      <th>code</th>\n      <th>year</th>\n      <th>month</th>\n      <th>date</th>\n      <th>return</th>\n      <th>circulating_market_cap</th>\n      <th>mkt_cap</th>\n    </tr>\n  </thead>\n  <tbody>\n    <tr>\n      <th>0</th>\n      <td>0</td>\n      <td>000001.XSHE</td>\n      <td>2005</td>\n      <td>2</td>\n      <td>2005-02-28</td>\n      <td>0.065693</td>\n      <td>1.0</td>\n      <td>8.540730e+09</td>\n    </tr>\n    <tr>\n      <th>1</th>\n      <td>1</td>\n      <td>000002.XSHE</td>\n      <td>2005</td>\n      <td>2</td>\n      <td>2005-02-28</td>\n      <td>0.000000</td>\n      <td>1.0</td>\n      <td>8.956490e+09</td>\n    </tr>\n    <tr>\n      <th>2</th>\n      <td>2</td>\n      <td>000004.XSHE</td>\n      <td>2005</td>\n      <td>2</td>\n      <td>2005-02-28</td>\n      <td>0.115044</td>\n      <td>5.0</td>\n      <td>2.445300e+08</td>\n    </tr>\n    <tr>\n      <th>3</th>\n      <td>3</td>\n      <td>000006.XSHE</td>\n      <td>2005</td>\n      <td>2</td>\n      <td>2005-02-28</td>\n      <td>0.055556</td>\n      <td>2.0</td>\n      <td>7.003200e+08</td>\n    </tr>\n    <tr>\n      <th>4</th>\n      <td>4</td>\n      <td>000007.XSHE</td>\n      <td>2005</td>\n      <td>2</td>\n      <td>2005-02-28</td>\n      <td>0.097561</td>\n      <td>4.0</td>\n      <td>2.983500e+08</td>\n    </tr>\n    <tr>\n      <th>...</th>\n      <td>...</td>\n      <td>...</td>\n      <td>...</td>\n      <td>...</td>\n      <td>...</td>\n      <td>...</td>\n      <td>...</td>\n      <td>...</td>\n    </tr>\n    <tr>\n      <th>391996</th>\n      <td>3613</td>\n      <td>688388.XSHG</td>\n      <td>2020</td>\n      <td>5</td>\n      <td>2020-05-28</td>\n      <td>-0.147754</td>\n      <td>3.0</td>\n      <td>3.374020e+09</td>\n    </tr>\n    <tr>\n      <th>391997</th>\n      <td>3614</td>\n      <td>688389.XSHG</td>\n      <td>2020</td>\n      <td>5</td>\n      <td>2020-05-28</td>\n      <td>0.263233</td>\n      <td>5.0</td>\n      <td>7.318700e+08</td>\n    </tr>\n    <tr>\n      <th>391998</th>\n      <td>3615</td>\n      <td>688396.XSHG</td>\n      <td>2020</td>\n      <td>5</td>\n      <td>2020-05-28</td>\n      <td>0.001850</td>\n      <td>2.0</td>\n      <td>8.970890e+09</td>\n    </tr>\n    <tr>\n      <th>391999</th>\n      <td>3616</td>\n      <td>688398.XSHG</td>\n      <td>2020</td>\n      <td>5</td>\n      <td>2020-05-28</td>\n      <td>0.134982</td>\n      <td>5.0</td>\n      <td>8.980400e+08</td>\n    </tr>\n    <tr>\n      <th>392000</th>\n      <td>3617</td>\n      <td>688399.XSHG</td>\n      <td>2020</td>\n      <td>5</td>\n      <td>2020-05-28</td>\n      <td>0.440495</td>\n      <td>5.0</td>\n      <td>1.606090e+09</td>\n    </tr>\n  </tbody>\n</table>\n<p>392001 rows × 8 columns</p>\n</div>"
     },
     "metadata": {},
     "execution_count": 2
    }
   ],
   "source": [
    "df"
   ]
  },
  {
   "cell_type": "code",
   "execution_count": 12,
   "metadata": {},
   "outputs": [
    {
     "output_type": "execute_result",
     "data": {
      "text/plain": "year  month\n2005  2        0.026905\n      3       -0.056524\n      4       -0.109729\n      5        0.083045\n      6       -0.004473\n                 ...   \n2020  1        0.024322\n      2        0.006187\n      3        0.052489\n      4       -0.049108\n      5        0.057587\nLength: 184, dtype: float64"
     },
     "metadata": {},
     "execution_count": 12
    }
   ],
   "source": [
    "def fun(subdf):\n",
    "    tmp_list = []\n",
    "    for i in [1,5]:\n",
    "        tmp_df = subdf[subdf['circulating_market_cap']==i]\n",
    "        tmp_list += [(tmp_df['return']*tmp_df['mkt_cap']/tmp_df['mkt_cap'].sum()).sum()]\n",
    "    return tmp_list[1]-tmp_list[0]\n",
    "SMB_return = df.groupby(['year','month']).apply(fun)\n",
    "SMB_return"
   ]
  },
  {
   "cell_type": "code",
   "execution_count": 13,
   "metadata": {},
   "outputs": [],
   "source": [
    "SMB_return.to_csv('SMB_factor_portfolio_5x1.csv')"
   ]
  },
  {
   "cell_type": "code",
   "execution_count": 20,
   "metadata": {},
   "outputs": [
    {
     "output_type": "execute_result",
     "data": {
      "text/plain": "                   return\nyear month code          \n2005 2     1     0.085373\n           2     0.106170\n           3     0.111629\n           4     0.111460\n           5     0.112278\n...                   ...\n2020 5     1    -0.006913\n           2     0.016585\n           3     0.008740\n           4     0.024848\n           5     0.050674\n\n[920 rows x 1 columns]",
      "text/html": "<div>\n<style scoped>\n    .dataframe tbody tr th:only-of-type {\n        vertical-align: middle;\n    }\n\n    .dataframe tbody tr th {\n        vertical-align: top;\n    }\n\n    .dataframe thead th {\n        text-align: right;\n    }\n</style>\n<table border=\"1\" class=\"dataframe\">\n  <thead>\n    <tr style=\"text-align: right;\">\n      <th></th>\n      <th></th>\n      <th></th>\n      <th>return</th>\n    </tr>\n    <tr>\n      <th>year</th>\n      <th>month</th>\n      <th>code</th>\n      <th></th>\n    </tr>\n  </thead>\n  <tbody>\n    <tr>\n      <th rowspan=\"5\" valign=\"top\">2005</th>\n      <th rowspan=\"5\" valign=\"top\">2</th>\n      <th>1</th>\n      <td>0.085373</td>\n    </tr>\n    <tr>\n      <th>2</th>\n      <td>0.106170</td>\n    </tr>\n    <tr>\n      <th>3</th>\n      <td>0.111629</td>\n    </tr>\n    <tr>\n      <th>4</th>\n      <td>0.111460</td>\n    </tr>\n    <tr>\n      <th>5</th>\n      <td>0.112278</td>\n    </tr>\n    <tr>\n      <th>...</th>\n      <th>...</th>\n      <th>...</th>\n      <td>...</td>\n    </tr>\n    <tr>\n      <th rowspan=\"5\" valign=\"top\">2020</th>\n      <th rowspan=\"5\" valign=\"top\">5</th>\n      <th>1</th>\n      <td>-0.006913</td>\n    </tr>\n    <tr>\n      <th>2</th>\n      <td>0.016585</td>\n    </tr>\n    <tr>\n      <th>3</th>\n      <td>0.008740</td>\n    </tr>\n    <tr>\n      <th>4</th>\n      <td>0.024848</td>\n    </tr>\n    <tr>\n      <th>5</th>\n      <td>0.050674</td>\n    </tr>\n  </tbody>\n</table>\n<p>920 rows × 1 columns</p>\n</div>"
     },
     "metadata": {},
     "execution_count": 20
    }
   ],
   "source": [
    "def fun(subdf):\n",
    "    tmp_list = []\n",
    "    for i in range(1,6):\n",
    "        tmp_df = subdf[subdf['circulating_market_cap']==i]\n",
    "        tmp_list += [(tmp_df['return']*tmp_df['mkt_cap']/tmp_df['mkt_cap'].sum()).sum()]\n",
    "    return pd.DataFrame(tmp_list,columns=['return'],index=[1,2,3,4,5])\n",
    "portfolio_return = df.groupby(['year','month']).apply(fun)\n",
    "portfolio_return.index.set_names('code',level=-1,inplace=True)\n",
    "portfolio_return"
   ]
  },
  {
   "cell_type": "code",
   "execution_count": 21,
   "metadata": {},
   "outputs": [],
   "source": [
    "portfolio_return.to_csv('size_5groups_portfolio_return.csv')"
   ]
  },
  {
   "cell_type": "code",
   "execution_count": null,
   "metadata": {},
   "outputs": [],
   "source": []
  }
 ],
 "metadata": {
  "language_info": {
   "codemirror_mode": {
    "name": "ipython",
    "version": 3
   },
   "file_extension": ".py",
   "mimetype": "text/x-python",
   "name": "python",
   "nbconvert_exporter": "python",
   "pygments_lexer": "ipython3",
   "version": "3.8.3-final"
  },
  "orig_nbformat": 2,
  "kernelspec": {
   "name": "python38364bitmlenvconda053125f3ef344d84a000ca672a419473",
   "display_name": "Python 3.8.3 64-bit ('ML_env': conda)"
  }
 },
 "nbformat": 4,
 "nbformat_minor": 2
}